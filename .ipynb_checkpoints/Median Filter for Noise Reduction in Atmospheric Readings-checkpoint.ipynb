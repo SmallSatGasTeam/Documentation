{
 "cells": [
  {
   "cell_type": "markdown",
   "metadata": {},
   "source": [
    "# Median Filter For Noise Reduction in Atmospheric Readings"
   ]
  },
  {
   "cell_type": "markdown",
   "metadata": {},
   "source": [
    "## Outline Ideas\n",
    "* Problem \n",
    "    * Seperate noise from signal \n",
    "    * Possible lack of communication \n",
    "* Possible Solution \n",
    "* Evaluation of solution "
   ]
  },
  {
   "cell_type": "markdown",
   "metadata": {},
   "source": [
    "## Problem Statement\n",
    "Earth's atmosphere is an incredibly dynamic and hard to predict environment. temperatures, wind speeds, and UV radiation vary wildly as an object ascends to ever greater heights. We face this challenging environment with the goal of accurately sensing the altitude of an object ascending through the atmosphere. In our case the object whose altitude we will be attempting to measure is a high altitude weather balloon. Our balloon must perform specific actions at a very specific altitude, forcing an investigation into noise reduction in our atmospheric sensing systems. Inherent to this hostile environment is unavoidable noise in our sensing systems, varying pressure, temperature and potential loss of communication between the ground station and balloon. Our primary objective is to find a way to effectively separate noise from our signal, and accurately assess the altitude of our balloon."
   ]
  },
  {
   "cell_type": "markdown",
   "metadata": {},
   "source": [
    "## Possible Solutions\n",
    "A number of potential solutions were discussed including the following. \n",
    "* Bandpass filtering \n",
    "* Median filtering\n",
    "* Arithmetic Mean filtering\n",
    "\n",
    "### Bandpass Filtering\n"
   ]
  },
  {
   "cell_type": "markdown",
   "metadata": {},
   "source": []
  }
 ],
 "metadata": {
  "kernelspec": {
   "display_name": "Python 3",
   "language": "python",
   "name": "python3"
  },
  "language_info": {
   "codemirror_mode": {
    "name": "ipython",
    "version": 3
   },
   "file_extension": ".py",
   "mimetype": "text/x-python",
   "name": "python",
   "nbconvert_exporter": "python",
   "pygments_lexer": "ipython3",
   "version": "3.5.2"
  }
 },
 "nbformat": 4,
 "nbformat_minor": 0
}
