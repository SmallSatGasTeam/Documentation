{
 "cells": [
  {
   "cell_type": "markdown",
   "metadata": {},
   "source": [
    "# Median Filter For Noise Reduction in Atmospheric Readings"
   ]
  },
  {
   "cell_type": "markdown",
   "metadata": {},
   "source": [
    "## Outline Ideas\n",
    "* Problem \n",
    "    * Separate noise from signal \n",
    "    * Possible lack of communication \n",
    "* Possible Solution \n",
    "* Evaluation of solution "
   ]
  },
  {
   "cell_type": "markdown",
   "metadata": {},
   "source": [
    "## Problem Statement\n",
    "Earth's atmosphere is an incredibly dynamic and hard-to-predict environment --- temperatures, wind speeds, and UV radiation acting on an object will vary wildly as it ascends to ever-greater heights. We face this challenging environment with the goal of accurately sensing the altitude of a small payload tethered to a high-altitude weather balloon. As the payload must execute certain mission-critical operations at a specific altitude, an investigation into noise reduction in our atmospheric sensing systems has been deemed necessary. In addition to the unavoidable noise and variation in atmospheric conditions, there is also the possibility of the loss of communication between the ground station and payload, further necessitating reliance on the payload's automatic decision-making in the potential absence of manually-sent commands. Our primary objective, therefore, is to develop a method to effectively separate noise from the signal and accurately assess the altitude of the payload."
   ]
  },
  {
   "cell_type": "markdown",
   "metadata": {},
   "source": [
    "## Possible Solutions\n",
    "A number of potential solutions have been proposed: \n",
    "* Bandpass filtering \n",
    "* Arithmetic Mean filtering\n",
    "* Median filtering\n",
    "Here, each of these solutions will be detailed\n",
    "\n",
    "### Bandpass Filtering\n",
    "\n",
    "### Arithmetic Mean Filtering\n",
    "\n",
    "### Median filtering\n"
   ]
  },
  {
   "cell_type": "markdown",
   "metadata": {},
   "source": []
  }
 ],
 "metadata": {
  "kernelspec": {
   "display_name": "Python [Root]",
   "language": "python",
   "name": "Python [Root]"
  },
  "language_info": {
   "codemirror_mode": {
    "name": "ipython",
    "version": 3
   },
   "file_extension": ".py",
   "mimetype": "text/x-python",
   "name": "python",
   "nbconvert_exporter": "python",
   "pygments_lexer": "ipython3",
   "version": "3.5.2"
  }
 },
 "nbformat": 4,
 "nbformat_minor": 0
}
