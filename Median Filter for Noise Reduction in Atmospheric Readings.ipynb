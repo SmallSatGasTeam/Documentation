{
 "cells": [
  {
   "cell_type": "markdown",
   "metadata": {},
   "source": [
    "# Median Filter For Noise Reduction in Atmospheric Readings"
   ]
  },
  {
   "cell_type": "markdown",
   "metadata": {},
   "source": [
    "## Outline Ideas\n",
    "* Problem \n",
    "    * Separate noise from signal \n",
    "    * Possible lack of communication \n",
    "* Possible Solution \n",
    "* Evaluation of solution "
   ]
  },
  {
   "cell_type": "markdown",
   "metadata": {},
   "source": [
    "## Problem Statement\n",
    "Earth's atmosphere is an incredibly dynamic and hard-to-predict environment --- temperatures, wind speeds, and UV radiation acting on an object will vary wildly as it ascends to ever-greater heights. We face this challenging environment with the goal of accurately sensing the altitude of a small payload tethered to a high-altitude weather balloon. As the payload must execute certain mission-critical operations at a specific altitude, an investigation into noise reduction in our atmospheric sensing systems has been deemed necessary. In addition to the unavoidable noise and variation in atmospheric conditions, there is also the possibility of the loss of communication between the ground station and payload, further necessitating reliance on the payload's automatic decision-making in the potential absence of manually-sent commands. Our primary objective, therefore, is to develop a method to effectively separate noise from the signal and accurately assess the altitude of the payload."
   ]
  },
  {
   "cell_type": "markdown",
   "metadata": {},
   "source": [
    "## Possible Solutions\n",
    "A number of potential solutions have been proposed: \n",
    "* Bandpass filtering \n",
    "* Arithmetic Mean filtering\n",
    "* Median filtering\n",
    "Here, each of these solutions will be detailed\n",
    "\n",
    "### Bandpass Filtering\n",
    "\n",
    "### Arithmetic Mean Filtering\n",
    "\n",
    "### Median filtering\n",
    "Median filtering is the process of replacing each entry in a signal with the median of itself and surrounding data points. We will define a median filter to be of order n if it calculates the median for a given data point with the n nearest data points. In contrast to both bandpass and arithmetic mean filtering, a median filter has the advantage of effectively filtering even the most extreme outliers from the data set provided that there are a sufficient number of valid other data points. \n",
    "\n",
    "Simplicity is another advantage of median filter over more sophisticated approaches. A median filter can be implemented by maintaining a list of last n measured values, sorting our list of values, and selecting the midpoint of our new sorted list. Due to the nature of a sorted list, extreme values will be at either end of our list. By selecting the median of this set, if our median filter is of sufficiently large order, we will be able to effectively separate our signal from the noise inherent to our system. \n",
    "\n",
    "However, median filtering has some weaknesses. We will still be limited by the constantly changing altitude and pressure. If we employ a median filter of too high an order we will unnecessarily be losing resolution in our signal. Our median strategy also depends on noise being evenly distributed on either side of our true signal. If our system produces noise that is disproportionally high or low, our median will follow. Though we will be able to effectively filter the occasional outlier, if we receive too many extreme values, especially sequentially, we will be unable to reduce our data to a useful signal. \n"
   ]
  },
  {
   "cell_type": "code",
   "execution_count": 20,
   "metadata": {
    "collapsed": false
   },
   "outputs": [
    {
     "data": {
      "image/png": "[encoded data removed]",
      "text/plain": [
       "<matplotlib.figure.Figure at 0x10d64e080>"
      ]
     },
     "metadata": {},
     "output_type": "display_data"
    }
   ],
   "source": [
    "%matplotlib inline\n",
    "import matplotlib.pyplot as plt\n",
    "import csv\n",
    "import time\n",
    "\n",
    "\n",
    "\n",
    "csvfile = open(\"BARO.CSV\")\n",
    "reader = csv.reader(csvfile)\n",
    "t = []\n",
    "alt = []\n",
    "for row in reader: \n",
    "    t.append(row[0])\n",
    "    alt.append(row[1])\n",
    "\n",
    "plt.plot(alt)\n",
    "plt.ylabel('Pressure')\n",
    "plt.xlabel('Time')\n",
    "plt.show()\n"
   ]
  }
 ],
 "metadata": {
  "kernelspec": {
   "display_name": "Python [Root]",
   "language": "python",
   "name": "Python [Root]"
  },
  "language_info": {
   "codemirror_mode": {
    "name": "ipython",
    "version": 3
   },
   "file_extension": ".py",
   "mimetype": "text/x-python",
   "name": "python",
   "nbconvert_exporter": "python",
   "pygments_lexer": "ipython3",
   "version": "3.5.2"
  }
 },
 "nbformat": 4,
 "nbformat_minor": 0
}
